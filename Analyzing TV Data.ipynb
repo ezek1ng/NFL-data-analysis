{
 "cells": [
  {
   "cell_type": "markdown",
   "metadata": {},
   "source": [
    "## Analyzing NFL Supoerbowl Data\n",
    "This project is about analyzing NFL Data which includes performance data, television viewership data and entertainment data relating to the NFL superbowl. It is a guided project I did for a short course on Dataquest. Data was sourced via wikipedia and scrapped by the instructor. In this project, I will answer a few questions based on the data such as:\n",
    "\n",
    "1. What is the total combined points?\n",
    "2. What are the superbowls with the higest and lowest scores?\n",
    "3. Do blowouts result in loss of viewership?\n",
    "4. How has viewership, ratings and tv adverts cost changed over time?\n",
    "5. Which musician has most halftime show appearances and ,\n",
    "6. Who performed most halftime songs?\n",
    "\n",
    "So, let's proceed."
   ]
  },
  {
   "cell_type": "markdown",
   "metadata": {},
   "source": [
    "### Import relevant python Modules to be used for the analysis"
   ]
  },
  {
   "cell_type": "code",
   "execution_count": 108,
   "metadata": {},
   "outputs": [],
   "source": [
    "import pandas as pd\n",
    "import numpy as np\n",
    "import matplotlib.pyplot as plt\n",
    "import seaborn as sns\n",
    "import os\n",
    "import warnings\n",
    "warnings.filterwarnings('ignore')"
   ]
  },
  {
   "cell_type": "markdown",
   "metadata": {},
   "source": [
    "## Read the data into the notebook"
   ]
  },
  {
   "cell_type": "code",
   "execution_count": 109,
   "metadata": {},
   "outputs": [
    {
     "data": {
      "text/html": [
       "<div>\n",
       "<style scoped>\n",
       "    .dataframe tbody tr th:only-of-type {\n",
       "        vertical-align: middle;\n",
       "    }\n",
       "\n",
       "    .dataframe tbody tr th {\n",
       "        vertical-align: top;\n",
       "    }\n",
       "\n",
       "    .dataframe thead th {\n",
       "        text-align: right;\n",
       "    }\n",
       "</style>\n",
       "<table border=\"1\" class=\"dataframe\">\n",
       "  <thead>\n",
       "    <tr style=\"text-align: right;\">\n",
       "      <th></th>\n",
       "      <th>super_bowl</th>\n",
       "      <th>network</th>\n",
       "      <th>avg_us_viewers</th>\n",
       "      <th>total_us_viewers</th>\n",
       "      <th>rating_household</th>\n",
       "      <th>share_household</th>\n",
       "      <th>rating_18_49</th>\n",
       "      <th>share_18_49</th>\n",
       "      <th>ad_cost</th>\n",
       "    </tr>\n",
       "  </thead>\n",
       "  <tbody>\n",
       "    <tr>\n",
       "      <th>0</th>\n",
       "      <td>52</td>\n",
       "      <td>NBC</td>\n",
       "      <td>103390000</td>\n",
       "      <td>NaN</td>\n",
       "      <td>43.1</td>\n",
       "      <td>68</td>\n",
       "      <td>33.4</td>\n",
       "      <td>78.0</td>\n",
       "      <td>5000000</td>\n",
       "    </tr>\n",
       "    <tr>\n",
       "      <th>1</th>\n",
       "      <td>51</td>\n",
       "      <td>Fox</td>\n",
       "      <td>111319000</td>\n",
       "      <td>172000000.0</td>\n",
       "      <td>45.3</td>\n",
       "      <td>73</td>\n",
       "      <td>37.1</td>\n",
       "      <td>79.0</td>\n",
       "      <td>5000000</td>\n",
       "    </tr>\n",
       "    <tr>\n",
       "      <th>2</th>\n",
       "      <td>50</td>\n",
       "      <td>CBS</td>\n",
       "      <td>111864000</td>\n",
       "      <td>167000000.0</td>\n",
       "      <td>46.6</td>\n",
       "      <td>72</td>\n",
       "      <td>37.7</td>\n",
       "      <td>79.0</td>\n",
       "      <td>5000000</td>\n",
       "    </tr>\n",
       "  </tbody>\n",
       "</table>\n",
       "</div>"
      ],
      "text/plain": [
       "   super_bowl network  avg_us_viewers  total_us_viewers  rating_household  \\\n",
       "0          52     NBC       103390000               NaN              43.1   \n",
       "1          51     Fox       111319000       172000000.0              45.3   \n",
       "2          50     CBS       111864000       167000000.0              46.6   \n",
       "\n",
       "   share_household  rating_18_49  share_18_49  ad_cost  \n",
       "0               68          33.4         78.0  5000000  \n",
       "1               73          37.1         79.0  5000000  \n",
       "2               72          37.7         79.0  5000000  "
      ]
     },
     "metadata": {},
     "output_type": "display_data"
    },
    {
     "data": {
      "text/html": [
       "<div>\n",
       "<style scoped>\n",
       "    .dataframe tbody tr th:only-of-type {\n",
       "        vertical-align: middle;\n",
       "    }\n",
       "\n",
       "    .dataframe tbody tr th {\n",
       "        vertical-align: top;\n",
       "    }\n",
       "\n",
       "    .dataframe thead th {\n",
       "        text-align: right;\n",
       "    }\n",
       "</style>\n",
       "<table border=\"1\" class=\"dataframe\">\n",
       "  <thead>\n",
       "    <tr style=\"text-align: right;\">\n",
       "      <th></th>\n",
       "      <th>date</th>\n",
       "      <th>super_bowl</th>\n",
       "      <th>venue</th>\n",
       "      <th>city</th>\n",
       "      <th>state</th>\n",
       "      <th>attendance</th>\n",
       "      <th>team_winner</th>\n",
       "      <th>winning_pts</th>\n",
       "      <th>qb_winner_1</th>\n",
       "      <th>qb_winner_2</th>\n",
       "      <th>coach_winner</th>\n",
       "      <th>team_loser</th>\n",
       "      <th>losing_pts</th>\n",
       "      <th>qb_loser_1</th>\n",
       "      <th>qb_loser_2</th>\n",
       "      <th>coach_loser</th>\n",
       "      <th>combined_pts</th>\n",
       "      <th>difference_pts</th>\n",
       "    </tr>\n",
       "  </thead>\n",
       "  <tbody>\n",
       "    <tr>\n",
       "      <th>0</th>\n",
       "      <td>2018-02-04</td>\n",
       "      <td>52</td>\n",
       "      <td>U.S. Bank Stadium</td>\n",
       "      <td>Minneapolis</td>\n",
       "      <td>Minnesota</td>\n",
       "      <td>67612</td>\n",
       "      <td>Philadelphia Eagles</td>\n",
       "      <td>41</td>\n",
       "      <td>Nick Foles</td>\n",
       "      <td>NaN</td>\n",
       "      <td>Doug Pederson</td>\n",
       "      <td>New England Patriots</td>\n",
       "      <td>33</td>\n",
       "      <td>Tom Brady</td>\n",
       "      <td>NaN</td>\n",
       "      <td>Bill Belichick</td>\n",
       "      <td>74</td>\n",
       "      <td>8</td>\n",
       "    </tr>\n",
       "    <tr>\n",
       "      <th>1</th>\n",
       "      <td>2017-02-05</td>\n",
       "      <td>51</td>\n",
       "      <td>NRG Stadium</td>\n",
       "      <td>Houston</td>\n",
       "      <td>Texas</td>\n",
       "      <td>70807</td>\n",
       "      <td>New England Patriots</td>\n",
       "      <td>34</td>\n",
       "      <td>Tom Brady</td>\n",
       "      <td>NaN</td>\n",
       "      <td>Bill Belichick</td>\n",
       "      <td>Atlanta Falcons</td>\n",
       "      <td>28</td>\n",
       "      <td>Matt Ryan</td>\n",
       "      <td>NaN</td>\n",
       "      <td>Dan Quinn</td>\n",
       "      <td>62</td>\n",
       "      <td>6</td>\n",
       "    </tr>\n",
       "    <tr>\n",
       "      <th>2</th>\n",
       "      <td>2016-02-07</td>\n",
       "      <td>50</td>\n",
       "      <td>Levi's Stadium</td>\n",
       "      <td>Santa Clara</td>\n",
       "      <td>California</td>\n",
       "      <td>71088</td>\n",
       "      <td>Denver Broncos</td>\n",
       "      <td>24</td>\n",
       "      <td>Peyton Manning</td>\n",
       "      <td>NaN</td>\n",
       "      <td>Gary Kubiak</td>\n",
       "      <td>Carolina Panthers</td>\n",
       "      <td>10</td>\n",
       "      <td>Cam Newton</td>\n",
       "      <td>NaN</td>\n",
       "      <td>Ron Rivera</td>\n",
       "      <td>34</td>\n",
       "      <td>14</td>\n",
       "    </tr>\n",
       "  </tbody>\n",
       "</table>\n",
       "</div>"
      ],
      "text/plain": [
       "         date  super_bowl              venue         city       state  \\\n",
       "0  2018-02-04          52  U.S. Bank Stadium  Minneapolis   Minnesota   \n",
       "1  2017-02-05          51        NRG Stadium      Houston       Texas   \n",
       "2  2016-02-07          50     Levi's Stadium  Santa Clara  California   \n",
       "\n",
       "   attendance           team_winner  winning_pts     qb_winner_1 qb_winner_2  \\\n",
       "0       67612   Philadelphia Eagles           41      Nick Foles         NaN   \n",
       "1       70807  New England Patriots           34       Tom Brady         NaN   \n",
       "2       71088        Denver Broncos           24  Peyton Manning         NaN   \n",
       "\n",
       "     coach_winner            team_loser  losing_pts  qb_loser_1 qb_loser_2  \\\n",
       "0   Doug Pederson  New England Patriots          33   Tom Brady        NaN   \n",
       "1  Bill Belichick       Atlanta Falcons          28   Matt Ryan        NaN   \n",
       "2     Gary Kubiak     Carolina Panthers          10  Cam Newton        NaN   \n",
       "\n",
       "      coach_loser  combined_pts  difference_pts  \n",
       "0  Bill Belichick            74               8  \n",
       "1       Dan Quinn            62               6  \n",
       "2      Ron Rivera            34              14  "
      ]
     },
     "metadata": {},
     "output_type": "display_data"
    },
    {
     "data": {
      "text/html": [
       "<div>\n",
       "<style scoped>\n",
       "    .dataframe tbody tr th:only-of-type {\n",
       "        vertical-align: middle;\n",
       "    }\n",
       "\n",
       "    .dataframe tbody tr th {\n",
       "        vertical-align: top;\n",
       "    }\n",
       "\n",
       "    .dataframe thead th {\n",
       "        text-align: right;\n",
       "    }\n",
       "</style>\n",
       "<table border=\"1\" class=\"dataframe\">\n",
       "  <thead>\n",
       "    <tr style=\"text-align: right;\">\n",
       "      <th></th>\n",
       "      <th>super_bowl</th>\n",
       "      <th>musician</th>\n",
       "      <th>num_songs</th>\n",
       "    </tr>\n",
       "  </thead>\n",
       "  <tbody>\n",
       "    <tr>\n",
       "      <th>0</th>\n",
       "      <td>52</td>\n",
       "      <td>Justin Timberlake</td>\n",
       "      <td>11.0</td>\n",
       "    </tr>\n",
       "    <tr>\n",
       "      <th>1</th>\n",
       "      <td>52</td>\n",
       "      <td>University of Minnesota Marching Band</td>\n",
       "      <td>1.0</td>\n",
       "    </tr>\n",
       "    <tr>\n",
       "      <th>2</th>\n",
       "      <td>51</td>\n",
       "      <td>Lady Gaga</td>\n",
       "      <td>7.0</td>\n",
       "    </tr>\n",
       "  </tbody>\n",
       "</table>\n",
       "</div>"
      ],
      "text/plain": [
       "   super_bowl                               musician  num_songs\n",
       "0          52                      Justin Timberlake       11.0\n",
       "1          52  University of Minnesota Marching Band        1.0\n",
       "2          51                              Lady Gaga        7.0"
      ]
     },
     "metadata": {},
     "output_type": "display_data"
    }
   ],
   "source": [
    "# Here, data is read into the notebook\n",
    "tv_data = pd.read_csv('tv.csv')\n",
    "super_bowls = pd.read_csv('super_bowls.csv')\n",
    "halftime_musicians = pd.read_csv('halftime_musicians.csv')\n",
    "\n",
    "# below code displays first 3 lines of each dataframe\n",
    "display(tv_data.head(3))\n",
    "display(super_bowls.head(3))\n",
    "display(halftime_musicians.head(3))"
   ]
  },
  {
   "cell_type": "markdown",
   "metadata": {},
   "source": [
    "## Exploratory Data Analysis"
   ]
  },
  {
   "cell_type": "code",
   "execution_count": 110,
   "metadata": {},
   "outputs": [
    {
     "data": {
      "text/plain": [
       "(53, 9)"
      ]
     },
     "metadata": {},
     "output_type": "display_data"
    },
    {
     "data": {
      "text/plain": [
       "(52, 18)"
      ]
     },
     "metadata": {},
     "output_type": "display_data"
    },
    {
     "data": {
      "text/plain": [
       "(134, 3)"
      ]
     },
     "metadata": {},
     "output_type": "display_data"
    }
   ],
   "source": [
    "# Check for missing data\n",
    "display(tv_data.shape)\n",
    "display(super_bowls.shape)\n",
    "display(halftime_musicians.shape)"
   ]
  },
  {
   "cell_type": "code",
   "execution_count": 111,
   "metadata": {},
   "outputs": [
    {
     "data": {
      "text/plain": [
       "True"
      ]
     },
     "metadata": {},
     "output_type": "display_data"
    },
    {
     "data": {
      "text/plain": [
       "True"
      ]
     },
     "metadata": {},
     "output_type": "display_data"
    },
    {
     "data": {
      "text/plain": [
       "True"
      ]
     },
     "metadata": {},
     "output_type": "display_data"
    }
   ],
   "source": [
    "# Check for missing data\n",
    "display(tv_data.isna().values.any())\n",
    "display(super_bowls.isna().values.any())\n",
    "display(halftime_musicians.isna().values.any())"
   ]
  },
  {
   "cell_type": "markdown",
   "metadata": {},
   "source": [
    "#### Word on Missing Data.\n",
    "\n",
    "Above result shows we have some missing data. However, we cannot drop these data due to certain reasons.\n",
    "From the shape of our data, we can see that the it is small, hence dropping columns will make us lose important data.\n",
    "Hence, we will proceed with the analsysis and deal with missing data in other ways at appriopriate time."
   ]
  },
  {
   "cell_type": "code",
   "execution_count": 112,
   "metadata": {},
   "outputs": [
    {
     "data": {
      "text/plain": [
       "False"
      ]
     },
     "metadata": {},
     "output_type": "display_data"
    },
    {
     "data": {
      "text/plain": [
       "False"
      ]
     },
     "metadata": {},
     "output_type": "display_data"
    },
    {
     "data": {
      "text/plain": [
       "False"
      ]
     },
     "metadata": {},
     "output_type": "display_data"
    }
   ],
   "source": [
    "# Check for duplicates\n",
    "display(tv_data.duplicated().values.any())\n",
    "display(super_bowls.duplicated().values.any())\n",
    "display(halftime_musicians.duplicated().values.any())"
   ]
  },
  {
   "cell_type": "markdown",
   "metadata": {},
   "source": [
    "# Data Analysis"
   ]
  },
  {
   "cell_type": "markdown",
   "metadata": {},
   "source": [
    "### Question 1. What is the combinbed points distribution"
   ]
  },
  {
   "cell_type": "code",
   "execution_count": 113,
   "metadata": {},
   "outputs": [
    {
     "data": {
      "image/png": "[encoded data removed]",
      "text/plain": [
       "<Figure size 576x396 with 1 Axes>"
      ]
     },
     "metadata": {},
     "output_type": "display_data"
    }
   ],
   "source": [
    "# Plot a histogram of combined points for each superbowl\n",
    "plt.style.use('seaborn')\n",
    "super_bowls['combined_pts'].hist()\n",
    "plt.xlabel('Combined Points')\n",
    "plt.ylabel('Number of Super Bowls')\n",
    "plt.show()"
   ]
  },
  {
   "cell_type": "markdown",
   "metadata": {},
   "source": [
    "### Question 2. What are the superbowls with the highest & lowest scores"
   ]
  },
  {
   "cell_type": "code",
   "execution_count": 114,
   "metadata": {},
   "outputs": [
    {
     "data": {
      "text/html": [
       "<div>\n",
       "<style scoped>\n",
       "    .dataframe tbody tr th:only-of-type {\n",
       "        vertical-align: middle;\n",
       "    }\n",
       "\n",
       "    .dataframe tbody tr th {\n",
       "        vertical-align: top;\n",
       "    }\n",
       "\n",
       "    .dataframe thead th {\n",
       "        text-align: right;\n",
       "    }\n",
       "</style>\n",
       "<table border=\"1\" class=\"dataframe\">\n",
       "  <thead>\n",
       "    <tr style=\"text-align: right;\">\n",
       "      <th></th>\n",
       "      <th>date</th>\n",
       "      <th>super_bowl</th>\n",
       "      <th>venue</th>\n",
       "      <th>city</th>\n",
       "      <th>state</th>\n",
       "      <th>attendance</th>\n",
       "      <th>team_winner</th>\n",
       "      <th>winning_pts</th>\n",
       "      <th>qb_winner_1</th>\n",
       "      <th>qb_winner_2</th>\n",
       "      <th>coach_winner</th>\n",
       "      <th>team_loser</th>\n",
       "      <th>losing_pts</th>\n",
       "      <th>qb_loser_1</th>\n",
       "      <th>qb_loser_2</th>\n",
       "      <th>coach_loser</th>\n",
       "      <th>combined_pts</th>\n",
       "      <th>difference_pts</th>\n",
       "    </tr>\n",
       "  </thead>\n",
       "  <tbody>\n",
       "    <tr>\n",
       "      <th>0</th>\n",
       "      <td>2018-02-04</td>\n",
       "      <td>52</td>\n",
       "      <td>U.S. Bank Stadium</td>\n",
       "      <td>Minneapolis</td>\n",
       "      <td>Minnesota</td>\n",
       "      <td>67612</td>\n",
       "      <td>Philadelphia Eagles</td>\n",
       "      <td>41</td>\n",
       "      <td>Nick Foles</td>\n",
       "      <td>NaN</td>\n",
       "      <td>Doug Pederson</td>\n",
       "      <td>New England Patriots</td>\n",
       "      <td>33</td>\n",
       "      <td>Tom Brady</td>\n",
       "      <td>NaN</td>\n",
       "      <td>Bill Belichick</td>\n",
       "      <td>74</td>\n",
       "      <td>8</td>\n",
       "    </tr>\n",
       "    <tr>\n",
       "      <th>23</th>\n",
       "      <td>1995-01-29</td>\n",
       "      <td>29</td>\n",
       "      <td>Joe Robbie Stadium</td>\n",
       "      <td>Miami Gardens</td>\n",
       "      <td>Florida</td>\n",
       "      <td>74107</td>\n",
       "      <td>San Francisco 49ers</td>\n",
       "      <td>49</td>\n",
       "      <td>Steve Young</td>\n",
       "      <td>NaN</td>\n",
       "      <td>George Seifert</td>\n",
       "      <td>San Diego Chargers</td>\n",
       "      <td>26</td>\n",
       "      <td>Stan Humphreys</td>\n",
       "      <td>NaN</td>\n",
       "      <td>Bobby Ross</td>\n",
       "      <td>75</td>\n",
       "      <td>23</td>\n",
       "    </tr>\n",
       "  </tbody>\n",
       "</table>\n",
       "</div>"
      ],
      "text/plain": [
       "          date  super_bowl               venue           city      state  \\\n",
       "0   2018-02-04          52   U.S. Bank Stadium    Minneapolis  Minnesota   \n",
       "23  1995-01-29          29  Joe Robbie Stadium  Miami Gardens    Florida   \n",
       "\n",
       "    attendance          team_winner  winning_pts  qb_winner_1 qb_winner_2  \\\n",
       "0        67612  Philadelphia Eagles           41   Nick Foles         NaN   \n",
       "23       74107  San Francisco 49ers           49  Steve Young         NaN   \n",
       "\n",
       "      coach_winner            team_loser  losing_pts      qb_loser_1  \\\n",
       "0    Doug Pederson  New England Patriots          33       Tom Brady   \n",
       "23  George Seifert    San Diego Chargers          26  Stan Humphreys   \n",
       "\n",
       "   qb_loser_2     coach_loser  combined_pts  difference_pts  \n",
       "0         NaN  Bill Belichick            74               8  \n",
       "23        NaN      Bobby Ross            75              23  "
      ]
     },
     "metadata": {},
     "output_type": "display_data"
    },
    {
     "data": {
      "text/html": [
       "<div>\n",
       "<style scoped>\n",
       "    .dataframe tbody tr th:only-of-type {\n",
       "        vertical-align: middle;\n",
       "    }\n",
       "\n",
       "    .dataframe tbody tr th {\n",
       "        vertical-align: top;\n",
       "    }\n",
       "\n",
       "    .dataframe thead th {\n",
       "        text-align: right;\n",
       "    }\n",
       "</style>\n",
       "<table border=\"1\" class=\"dataframe\">\n",
       "  <thead>\n",
       "    <tr style=\"text-align: right;\">\n",
       "      <th></th>\n",
       "      <th>date</th>\n",
       "      <th>super_bowl</th>\n",
       "      <th>venue</th>\n",
       "      <th>city</th>\n",
       "      <th>state</th>\n",
       "      <th>attendance</th>\n",
       "      <th>team_winner</th>\n",
       "      <th>winning_pts</th>\n",
       "      <th>qb_winner_1</th>\n",
       "      <th>qb_winner_2</th>\n",
       "      <th>coach_winner</th>\n",
       "      <th>team_loser</th>\n",
       "      <th>losing_pts</th>\n",
       "      <th>qb_loser_1</th>\n",
       "      <th>qb_loser_2</th>\n",
       "      <th>coach_loser</th>\n",
       "      <th>combined_pts</th>\n",
       "      <th>difference_pts</th>\n",
       "    </tr>\n",
       "  </thead>\n",
       "  <tbody>\n",
       "    <tr>\n",
       "      <th>43</th>\n",
       "      <td>1975-01-12</td>\n",
       "      <td>9</td>\n",
       "      <td>Tulane Stadium</td>\n",
       "      <td>New Orleans</td>\n",
       "      <td>Louisiana</td>\n",
       "      <td>80997</td>\n",
       "      <td>Pittsburgh Steelers</td>\n",
       "      <td>16</td>\n",
       "      <td>Terry Bradshaw</td>\n",
       "      <td>NaN</td>\n",
       "      <td>Chuck Noll</td>\n",
       "      <td>Minnesota Vikings</td>\n",
       "      <td>6</td>\n",
       "      <td>Fran Tarkenton</td>\n",
       "      <td>NaN</td>\n",
       "      <td>Bud Grant</td>\n",
       "      <td>22</td>\n",
       "      <td>10</td>\n",
       "    </tr>\n",
       "    <tr>\n",
       "      <th>45</th>\n",
       "      <td>1973-01-14</td>\n",
       "      <td>7</td>\n",
       "      <td>Memorial Coliseum</td>\n",
       "      <td>Los Angeles</td>\n",
       "      <td>California</td>\n",
       "      <td>90182</td>\n",
       "      <td>Miami Dolphins</td>\n",
       "      <td>14</td>\n",
       "      <td>Bob Griese</td>\n",
       "      <td>NaN</td>\n",
       "      <td>Don Shula</td>\n",
       "      <td>Washington Redskins</td>\n",
       "      <td>7</td>\n",
       "      <td>Bill Kilmer</td>\n",
       "      <td>NaN</td>\n",
       "      <td>George Allen</td>\n",
       "      <td>21</td>\n",
       "      <td>7</td>\n",
       "    </tr>\n",
       "    <tr>\n",
       "      <th>49</th>\n",
       "      <td>1969-01-12</td>\n",
       "      <td>3</td>\n",
       "      <td>Orange Bowl</td>\n",
       "      <td>Miami</td>\n",
       "      <td>Florida</td>\n",
       "      <td>75389</td>\n",
       "      <td>New York Jets</td>\n",
       "      <td>16</td>\n",
       "      <td>Joe Namath</td>\n",
       "      <td>NaN</td>\n",
       "      <td>Weeb Ewbank</td>\n",
       "      <td>Baltimore Colts</td>\n",
       "      <td>7</td>\n",
       "      <td>Earl Morrall</td>\n",
       "      <td>Johnny Unitas</td>\n",
       "      <td>Don Shula</td>\n",
       "      <td>23</td>\n",
       "      <td>9</td>\n",
       "    </tr>\n",
       "  </tbody>\n",
       "</table>\n",
       "</div>"
      ],
      "text/plain": [
       "          date  super_bowl              venue         city       state  \\\n",
       "43  1975-01-12           9     Tulane Stadium  New Orleans   Louisiana   \n",
       "45  1973-01-14           7  Memorial Coliseum  Los Angeles  California   \n",
       "49  1969-01-12           3        Orange Bowl        Miami     Florida   \n",
       "\n",
       "    attendance          team_winner  winning_pts     qb_winner_1 qb_winner_2  \\\n",
       "43       80997  Pittsburgh Steelers           16  Terry Bradshaw         NaN   \n",
       "45       90182       Miami Dolphins           14      Bob Griese         NaN   \n",
       "49       75389        New York Jets           16      Joe Namath         NaN   \n",
       "\n",
       "   coach_winner           team_loser  losing_pts      qb_loser_1  \\\n",
       "43   Chuck Noll    Minnesota Vikings           6  Fran Tarkenton   \n",
       "45    Don Shula  Washington Redskins           7     Bill Kilmer   \n",
       "49  Weeb Ewbank      Baltimore Colts           7    Earl Morrall   \n",
       "\n",
       "       qb_loser_2   coach_loser  combined_pts  difference_pts  \n",
       "43            NaN     Bud Grant            22              10  \n",
       "45            NaN  George Allen            21               7  \n",
       "49  Johnny Unitas     Don Shula            23               9  "
      ]
     },
     "metadata": {},
     "output_type": "display_data"
    }
   ],
   "source": [
    "# Let's also pinpoint the Super Bowls with the highest and lowest scores\n",
    "display(super_bowls[super_bowls['combined_pts'] > 70])\n",
    "display(super_bowls[super_bowls['combined_pts'] < 25])"
   ]
  },
  {
   "cell_type": "code",
   "execution_count": 115,
   "metadata": {},
   "outputs": [
    {
     "data": {
      "image/png": "[encoded data removed]",
      "text/plain": [
       "<Figure size 576x396 with 1 Axes>"
      ]
     },
     "metadata": {},
     "output_type": "display_data"
    }
   ],
   "source": [
    "# points difference distribution\n",
    "super_bowls['difference_pts'].hist()\n",
    "plt.show()"
   ]
  },
  {
   "cell_type": "markdown",
   "metadata": {},
   "source": [
    "### Question 3. Do blowouts result in loss of viewership?"
   ]
  },
  {
   "cell_type": "code",
   "execution_count": 116,
   "metadata": {},
   "outputs": [
    {
     "data": {
      "image/png": "[encoded data removed]",
      "text/plain": [
       "<Figure size 576x396 with 1 Axes>"
      ]
     },
     "metadata": {},
     "output_type": "display_data"
    }
   ],
   "source": [
    "# Review of tv_data shows that superbowl 1 was split over 2 networks, so, it will be filtered out.\n",
    "\n",
    "games_data = pd.merge(tv_data[tv_data['super_bowl'] > 1], super_bowls, on ='super_bowl')\n",
    "\n",
    "fig , ax= plt.subplots()\n",
    "sns.regplot(x='difference_pts', y='share_household', data=games_data)\n",
    "ax.set_xlabel('Points Difference')\n",
    "ax.set_ylabel('Share Household')\n",
    "plt.show()"
   ]
  },
  {
   "cell_type": "markdown",
   "metadata": {},
   "source": [
    "### Question 4. How has viewership, ratings and cost of adverts changed over time?"
   ]
  },
  {
   "cell_type": "code",
   "execution_count": 117,
   "metadata": {},
   "outputs": [
    {
     "data": {
      "image/png": "[encoded data removed]",
      "text/plain": [
       "<Figure size 576x396 with 3 Axes>"
      ]
     },
     "metadata": {},
     "output_type": "display_data"
    }
   ],
   "source": [
    "# viewership, ratings and adcost over time\n",
    "\n",
    "plt.subplot(3, 1, 1)\n",
    "plt.plot('super_bowl','avg_us_viewers', data = tv_data, color = '#244864')\n",
    "plt.xlabel('Super Bowl')\n",
    "plt.ylabel('Average Viewers')\n",
    "plt.title('Average US Viewers', fontweight='bold')\n",
    "\n",
    "plt.subplot(3, 1, 2)\n",
    "plt.plot('super_bowl','rating_household', data = tv_data, color = '#019f66')\n",
    "plt.xlabel('Super Bowl')\n",
    "plt.ylabel('Household Ratings')\n",
    "plt.title('Ratings', fontweight='bold')\n",
    "\n",
    "plt.subplot(3, 1, 3)\n",
    "plt.plot('super_bowl', 'ad_cost', data = tv_data, color = '#ff3333')\n",
    "plt.xlabel('Super Bowl')\n",
    "plt.ylabel('Ad Cost')\n",
    "plt.title('Ad cost', fontweight='bold')\n",
    "\n",
    "plt.tight_layout()\n",
    "plt.show()\n"
   ]
  },
  {
   "cell_type": "markdown",
   "metadata": {},
   "source": [
    "### Question 5. Which musician has most halftime show appearances"
   ]
  },
  {
   "cell_type": "code",
   "execution_count": 118,
   "metadata": {},
   "outputs": [
    {
     "data": {
      "text/html": [
       "<div>\n",
       "<style scoped>\n",
       "    .dataframe tbody tr th:only-of-type {\n",
       "        vertical-align: middle;\n",
       "    }\n",
       "\n",
       "    .dataframe tbody tr th {\n",
       "        vertical-align: top;\n",
       "    }\n",
       "\n",
       "    .dataframe thead th {\n",
       "        text-align: right;\n",
       "    }\n",
       "</style>\n",
       "<table border=\"1\" class=\"dataframe\">\n",
       "  <thead>\n",
       "    <tr style=\"text-align: right;\">\n",
       "      <th></th>\n",
       "      <th>super_bowl</th>\n",
       "      <th>num_songs</th>\n",
       "    </tr>\n",
       "    <tr>\n",
       "      <th>musician</th>\n",
       "      <th></th>\n",
       "      <th></th>\n",
       "    </tr>\n",
       "  </thead>\n",
       "  <tbody>\n",
       "    <tr>\n",
       "      <th>Grambling State University Tiger Marching Band</th>\n",
       "      <td>6</td>\n",
       "      <td>2</td>\n",
       "    </tr>\n",
       "    <tr>\n",
       "      <th>Up with People</th>\n",
       "      <td>4</td>\n",
       "      <td>0</td>\n",
       "    </tr>\n",
       "    <tr>\n",
       "      <th>Al Hirt</th>\n",
       "      <td>4</td>\n",
       "      <td>0</td>\n",
       "    </tr>\n",
       "    <tr>\n",
       "      <th>The Human Jukebox</th>\n",
       "      <td>3</td>\n",
       "      <td>0</td>\n",
       "    </tr>\n",
       "    <tr>\n",
       "      <th>Spirit of Troy</th>\n",
       "      <td>2</td>\n",
       "      <td>1</td>\n",
       "    </tr>\n",
       "    <tr>\n",
       "      <th>Florida A&amp;M University Marching 100 Band</th>\n",
       "      <td>2</td>\n",
       "      <td>0</td>\n",
       "    </tr>\n",
       "    <tr>\n",
       "      <th>Gloria Estefan</th>\n",
       "      <td>2</td>\n",
       "      <td>2</td>\n",
       "    </tr>\n",
       "    <tr>\n",
       "      <th>University of Minnesota Marching Band</th>\n",
       "      <td>2</td>\n",
       "      <td>1</td>\n",
       "    </tr>\n",
       "    <tr>\n",
       "      <th>Bruno Mars</th>\n",
       "      <td>2</td>\n",
       "      <td>2</td>\n",
       "    </tr>\n",
       "    <tr>\n",
       "      <th>Pete Fountain</th>\n",
       "      <td>2</td>\n",
       "      <td>1</td>\n",
       "    </tr>\n",
       "  </tbody>\n",
       "</table>\n",
       "</div>"
      ],
      "text/plain": [
       "                                                super_bowl  num_songs\n",
       "musician                                                             \n",
       "Grambling State University Tiger Marching Band           6          2\n",
       "Up with People                                           4          0\n",
       "Al Hirt                                                  4          0\n",
       "The Human Jukebox                                        3          0\n",
       "Spirit of Troy                                           2          1\n",
       "Florida A&M University Marching 100 Band                 2          0\n",
       "Gloria Estefan                                           2          2\n",
       "University of Minnesota Marching Band                    2          1\n",
       "Bruno Mars                                               2          2\n",
       "Pete Fountain                                            2          1"
      ]
     },
     "execution_count": 118,
     "metadata": {},
     "output_type": "execute_result"
    }
   ],
   "source": [
    "# Let's write the code to view the top 10\n",
    "halftime_musicians.groupby('musician').count().sort_values(by='super_bowl', ascending=False).head(10)"
   ]
  },
  {
   "cell_type": "markdown",
   "metadata": {},
   "source": [
    "### Question 6. Who performed most half time songs?\n",
    "\n",
    "From previous inspections, the num_songs column has a lot of missing values:\n",
    "\n",
    "A lot of the marching bands don't have num_songs entries.\n",
    "For non-marching bands, missing data starts occurring at Super Bowl XX."
   ]
  },
  {
   "cell_type": "code",
   "execution_count": 119,
   "metadata": {},
   "outputs": [
    {
     "data": {
      "image/png": "[encoded data removed]",
      "text/plain": [
       "<Figure size 576x396 with 1 Axes>"
      ]
     },
     "metadata": {},
     "output_type": "display_data"
    }
   ],
   "source": [
    "bands_sorted = halftime_musicians[~halftime_musicians.musician.str.contains('Marching')]\n",
    "bands_sorted = bands_sorted[~bands_sorted.musician.str.contains('Spirit')]\n",
    "\n",
    "#Next, let's plot a histogram to visualize the data\n",
    "\n",
    "most_songs = int(max(bands_sorted['num_songs'].values))\n",
    "plt.hist(bands_sorted['num_songs'].dropna(), bins= 6)\n",
    "plt.xlabel('Number of Songs Per Halftime Show Performance')\n",
    "plt.ylabel('Number of Musicians')\n",
    "plt.show()"
   ]
  },
  {
   "cell_type": "code",
   "execution_count": 120,
   "metadata": {},
   "outputs": [
    {
     "data": {
      "text/html": [
       "<div>\n",
       "<style scoped>\n",
       "    .dataframe tbody tr th:only-of-type {\n",
       "        vertical-align: middle;\n",
       "    }\n",
       "\n",
       "    .dataframe tbody tr th {\n",
       "        vertical-align: top;\n",
       "    }\n",
       "\n",
       "    .dataframe thead th {\n",
       "        text-align: right;\n",
       "    }\n",
       "</style>\n",
       "<table border=\"1\" class=\"dataframe\">\n",
       "  <thead>\n",
       "    <tr style=\"text-align: right;\">\n",
       "      <th></th>\n",
       "      <th>super_bowl</th>\n",
       "      <th>musician</th>\n",
       "      <th>num_songs</th>\n",
       "    </tr>\n",
       "  </thead>\n",
       "  <tbody>\n",
       "    <tr>\n",
       "      <th>0</th>\n",
       "      <td>52</td>\n",
       "      <td>Justin Timberlake</td>\n",
       "      <td>11.0</td>\n",
       "    </tr>\n",
       "    <tr>\n",
       "      <th>70</th>\n",
       "      <td>30</td>\n",
       "      <td>Diana Ross</td>\n",
       "      <td>10.0</td>\n",
       "    </tr>\n",
       "    <tr>\n",
       "      <th>10</th>\n",
       "      <td>49</td>\n",
       "      <td>Katy Perry</td>\n",
       "      <td>8.0</td>\n",
       "    </tr>\n",
       "    <tr>\n",
       "      <th>2</th>\n",
       "      <td>51</td>\n",
       "      <td>Lady Gaga</td>\n",
       "      <td>7.0</td>\n",
       "    </tr>\n",
       "    <tr>\n",
       "      <th>90</th>\n",
       "      <td>23</td>\n",
       "      <td>Elvis Presto</td>\n",
       "      <td>7.0</td>\n",
       "    </tr>\n",
       "    <tr>\n",
       "      <th>33</th>\n",
       "      <td>41</td>\n",
       "      <td>Prince</td>\n",
       "      <td>7.0</td>\n",
       "    </tr>\n",
       "    <tr>\n",
       "      <th>16</th>\n",
       "      <td>47</td>\n",
       "      <td>Beyoncé</td>\n",
       "      <td>7.0</td>\n",
       "    </tr>\n",
       "    <tr>\n",
       "      <th>14</th>\n",
       "      <td>48</td>\n",
       "      <td>Bruno Mars</td>\n",
       "      <td>6.0</td>\n",
       "    </tr>\n",
       "    <tr>\n",
       "      <th>3</th>\n",
       "      <td>50</td>\n",
       "      <td>Coldplay</td>\n",
       "      <td>6.0</td>\n",
       "    </tr>\n",
       "    <tr>\n",
       "      <th>25</th>\n",
       "      <td>45</td>\n",
       "      <td>The Black Eyed Peas</td>\n",
       "      <td>6.0</td>\n",
       "    </tr>\n",
       "  </tbody>\n",
       "</table>\n",
       "</div>"
      ],
      "text/plain": [
       "    super_bowl             musician  num_songs\n",
       "0           52    Justin Timberlake       11.0\n",
       "70          30           Diana Ross       10.0\n",
       "10          49           Katy Perry        8.0\n",
       "2           51            Lady Gaga        7.0\n",
       "90          23         Elvis Presto        7.0\n",
       "33          41               Prince        7.0\n",
       "16          47              Beyoncé        7.0\n",
       "14          48           Bruno Mars        6.0\n",
       "3           50             Coldplay        6.0\n",
       "25          45  The Black Eyed Peas        6.0"
      ]
     },
     "execution_count": 120,
     "metadata": {},
     "output_type": "execute_result"
    }
   ],
   "source": [
    "bands_sorted.sort_values('num_songs', ascending=False).head(10)"
   ]
  },
  {
   "cell_type": "markdown",
   "metadata": {},
   "source": [
    "# Conclusion"
   ]
  },
  {
   "cell_type": "markdown",
   "metadata": {},
   "source": [
    "## Using the data available, we have been able to answer some questions related to the NFL.\n",
    "\n",
    "Let us recap the main points.\n",
    "\n",
    "1. Blowouts does not result to loss of viewership.\n",
    "2. There is direct correlation between viewership and cost of advertisement.\n",
    "3. Justin Timberlake performed the most half-time songs.\n"
   ]
  },
  {
   "cell_type": "code",
   "execution_count": null,
   "metadata": {},
   "outputs": [],
   "source": []
  }
 ],
 "metadata": {
  "kernelspec": {
   "display_name": "Python 3",
   "language": "python",
   "name": "python3"
  },
  "language_info": {
   "codemirror_mode": {
    "name": "ipython",
    "version": 3
   },
   "file_extension": ".py",
   "mimetype": "text/x-python",
   "name": "python",
   "nbconvert_exporter": "python",
   "pygments_lexer": "ipython3",
   "version": "3.7.4"
  }
 },
 "nbformat": 4,
 "nbformat_minor": 2
}
